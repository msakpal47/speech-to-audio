{
 "cells": [
  {
   "cell_type": "code",
   "execution_count": 3,
   "id": "784b9acb",
   "metadata": {},
   "outputs": [
    {
     "name": "stdout",
     "output_type": "stream",
     "text": [
      "Requirement already satisfied: gTTS in c:\\users\\admin\\anaconda3\\lib\\site-packages (2.5.1)\n",
      "Requirement already satisfied: requests<3,>=2.27 in c:\\users\\admin\\anaconda3\\lib\\site-packages (from gTTS) (2.31.0)\n",
      "Requirement already satisfied: click<8.2,>=7.1 in c:\\users\\admin\\anaconda3\\lib\\site-packages (from gTTS) (8.1.7)\n",
      "Requirement already satisfied: colorama in c:\\users\\admin\\anaconda3\\lib\\site-packages (from click<8.2,>=7.1->gTTS) (0.4.6)\n",
      "Requirement already satisfied: charset-normalizer<4,>=2 in c:\\users\\admin\\anaconda3\\lib\\site-packages (from requests<3,>=2.27->gTTS) (2.0.4)\n",
      "Requirement already satisfied: idna<4,>=2.5 in c:\\users\\admin\\anaconda3\\lib\\site-packages (from requests<3,>=2.27->gTTS) (2.10)\n",
      "Requirement already satisfied: urllib3<3,>=1.21.1 in c:\\users\\admin\\anaconda3\\lib\\site-packages (from requests<3,>=2.27->gTTS) (1.26.16)\n",
      "Requirement already satisfied: certifi>=2017.4.17 in c:\\users\\admin\\anaconda3\\lib\\site-packages (from requests<3,>=2.27->gTTS) (2023.11.17)\n",
      "Note: you may need to restart the kernel to use updated packages.\n"
     ]
    }
   ],
   "source": [
    " pip install gTTS"
   ]
  },
  {
   "cell_type": "code",
   "execution_count": 6,
   "id": "70e6fd20",
   "metadata": {},
   "outputs": [
    {
     "name": "stdout",
     "output_type": "stream",
     "text": [
      "Requirement already satisfied: pyttsx3 in c:\\users\\admin\\anaconda3\\lib\\site-packages (2.90)\n",
      "Requirement already satisfied: playsound in c:\\users\\admin\\anaconda3\\lib\\site-packages (1.3.0)\n",
      "Requirement already satisfied: soundfile in c:\\users\\admin\\anaconda3\\lib\\site-packages (0.12.1)\n",
      "Requirement already satisfied: transformers in c:\\users\\admin\\anaconda3\\lib\\site-packages (4.32.1)\n",
      "Requirement already satisfied: datasets in c:\\users\\admin\\anaconda3\\lib\\site-packages (2.12.0)\n",
      "Requirement already satisfied: sentencepiece in c:\\users\\admin\\anaconda3\\lib\\site-packages (0.1.99)\n",
      "Requirement already satisfied: comtypes in c:\\users\\admin\\anaconda3\\lib\\site-packages (from pyttsx3) (1.2.1)\n",
      "Requirement already satisfied: pypiwin32 in c:\\users\\admin\\anaconda3\\lib\\site-packages (from pyttsx3) (223)\n",
      "Requirement already satisfied: pywin32 in c:\\users\\admin\\anaconda3\\lib\\site-packages (from pyttsx3) (305.1)\n",
      "Requirement already satisfied: cffi>=1.0 in c:\\users\\admin\\anaconda3\\lib\\site-packages (from soundfile) (1.15.1)\n",
      "Requirement already satisfied: filelock in c:\\users\\admin\\anaconda3\\lib\\site-packages (from transformers) (3.9.0)\n",
      "Requirement already satisfied: huggingface-hub<1.0,>=0.15.1 in c:\\users\\admin\\anaconda3\\lib\\site-packages (from transformers) (0.15.1)\n",
      "Requirement already satisfied: numpy>=1.17 in c:\\users\\admin\\anaconda3\\lib\\site-packages (from transformers) (1.24.3)\n",
      "Requirement already satisfied: packaging>=20.0 in c:\\users\\admin\\anaconda3\\lib\\site-packages (from transformers) (23.1)\n",
      "Requirement already satisfied: pyyaml>=5.1 in c:\\users\\admin\\anaconda3\\lib\\site-packages (from transformers) (6.0)\n",
      "Requirement already satisfied: regex!=2019.12.17 in c:\\users\\admin\\anaconda3\\lib\\site-packages (from transformers) (2022.7.9)\n",
      "Requirement already satisfied: requests in c:\\users\\admin\\anaconda3\\lib\\site-packages (from transformers) (2.31.0)\n",
      "Requirement already satisfied: tokenizers!=0.11.3,<0.14,>=0.11.1 in c:\\users\\admin\\anaconda3\\lib\\site-packages (from transformers) (0.13.2)\n",
      "Requirement already satisfied: safetensors>=0.3.1 in c:\\users\\admin\\anaconda3\\lib\\site-packages (from transformers) (0.3.2)\n",
      "Requirement already satisfied: tqdm>=4.27 in c:\\users\\admin\\anaconda3\\lib\\site-packages (from transformers) (4.65.0)\n",
      "Requirement already satisfied: pyarrow>=8.0.0 in c:\\users\\admin\\anaconda3\\lib\\site-packages (from datasets) (11.0.0)\n",
      "Requirement already satisfied: dill<0.3.7,>=0.3.0 in c:\\users\\admin\\anaconda3\\lib\\site-packages (from datasets) (0.3.6)\n",
      "Requirement already satisfied: pandas in c:\\users\\admin\\anaconda3\\lib\\site-packages (from datasets) (2.0.3)\n",
      "Requirement already satisfied: xxhash in c:\\users\\admin\\anaconda3\\lib\\site-packages (from datasets) (2.0.2)\n",
      "Requirement already satisfied: multiprocess in c:\\users\\admin\\anaconda3\\lib\\site-packages (from datasets) (0.70.14)\n",
      "Requirement already satisfied: fsspec[http]>=2021.11.1 in c:\\users\\admin\\anaconda3\\lib\\site-packages (from datasets) (2023.4.0)\n",
      "Requirement already satisfied: aiohttp in c:\\users\\admin\\anaconda3\\lib\\site-packages (from datasets) (3.8.5)\n",
      "Requirement already satisfied: responses<0.19 in c:\\users\\admin\\anaconda3\\lib\\site-packages (from datasets) (0.13.3)\n",
      "Requirement already satisfied: pycparser in c:\\users\\admin\\anaconda3\\lib\\site-packages (from cffi>=1.0->soundfile) (2.21)\n",
      "Requirement already satisfied: attrs>=17.3.0 in c:\\users\\admin\\anaconda3\\lib\\site-packages (from aiohttp->datasets) (22.1.0)\n",
      "Requirement already satisfied: charset-normalizer<4.0,>=2.0 in c:\\users\\admin\\anaconda3\\lib\\site-packages (from aiohttp->datasets) (2.0.4)\n",
      "Requirement already satisfied: multidict<7.0,>=4.5 in c:\\users\\admin\\anaconda3\\lib\\site-packages (from aiohttp->datasets) (6.0.2)\n",
      "Requirement already satisfied: async-timeout<5.0,>=4.0.0a3 in c:\\users\\admin\\anaconda3\\lib\\site-packages (from aiohttp->datasets) (4.0.2)\n",
      "Requirement already satisfied: yarl<2.0,>=1.0 in c:\\users\\admin\\anaconda3\\lib\\site-packages (from aiohttp->datasets) (1.8.1)\n",
      "Requirement already satisfied: frozenlist>=1.1.1 in c:\\users\\admin\\anaconda3\\lib\\site-packages (from aiohttp->datasets) (1.3.3)\n",
      "Requirement already satisfied: aiosignal>=1.1.2 in c:\\users\\admin\\anaconda3\\lib\\site-packages (from aiohttp->datasets) (1.2.0)\n",
      "Requirement already satisfied: typing-extensions>=3.7.4.3 in c:\\users\\admin\\anaconda3\\lib\\site-packages (from huggingface-hub<1.0,>=0.15.1->transformers) (4.7.1)\n",
      "Requirement already satisfied: idna<4,>=2.5 in c:\\users\\admin\\anaconda3\\lib\\site-packages (from requests->transformers) (2.10)\n",
      "Requirement already satisfied: urllib3<3,>=1.21.1 in c:\\users\\admin\\anaconda3\\lib\\site-packages (from requests->transformers) (1.26.16)\n",
      "Requirement already satisfied: certifi>=2017.4.17 in c:\\users\\admin\\anaconda3\\lib\\site-packages (from requests->transformers) (2023.11.17)\n",
      "Requirement already satisfied: six in c:\\users\\admin\\anaconda3\\lib\\site-packages (from responses<0.19->datasets) (1.16.0)\n",
      "Requirement already satisfied: colorama in c:\\users\\admin\\anaconda3\\lib\\site-packages (from tqdm>=4.27->transformers) (0.4.6)\n",
      "Requirement already satisfied: python-dateutil>=2.8.2 in c:\\users\\admin\\anaconda3\\lib\\site-packages (from pandas->datasets) (2.8.2)\n",
      "Requirement already satisfied: pytz>=2020.1 in c:\\users\\admin\\anaconda3\\lib\\site-packages (from pandas->datasets) (2023.3.post1)\n",
      "Requirement already satisfied: tzdata>=2022.1 in c:\\users\\admin\\anaconda3\\lib\\site-packages (from pandas->datasets) (2023.3)\n",
      "Note: you may need to restart the kernel to use updated packages.\n"
     ]
    }
   ],
   "source": [
    "pip install  pyttsx3 playsound soundfile transformers datasets sentencepiece "
   ]
  },
  {
   "cell_type": "code",
   "execution_count": 4,
   "id": "2fe6489a",
   "metadata": {},
   "outputs": [
    {
     "ename": "SyntaxError",
     "evalue": "invalid syntax (1840611861.py, line 1)",
     "output_type": "error",
     "traceback": [
      "\u001b[1;36m  Cell \u001b[1;32mIn[4], line 1\u001b[1;36m\u001b[0m\n\u001b[1;33m    playsound soundfile transformers datasets sentencepiece openai\u001b[0m\n\u001b[1;37m              ^\u001b[0m\n\u001b[1;31mSyntaxError\u001b[0m\u001b[1;31m:\u001b[0m invalid syntax\n"
     ]
    }
   ],
   "source": [
    "playsound soundfile transformers datasets sentencepiece "
   ]
  },
  {
   "cell_type": "code",
   "execution_count": 7,
   "id": "dff4e6cd",
   "metadata": {},
   "outputs": [],
   "source": [
    "import gtts\n",
    "from playsound import playsound"
   ]
  },
  {
   "cell_type": "code",
   "execution_count": 8,
   "id": "dba32c04",
   "metadata": {},
   "outputs": [],
   "source": [
    "# make request to google to get synthesis\n",
    "tts = gtts.gTTS(\"Hello world\")"
   ]
  },
  {
   "cell_type": "code",
   "execution_count": null,
   "id": "b75fa81d",
   "metadata": {},
   "outputs": [],
   "source": []
  },
  {
   "cell_type": "code",
   "execution_count": 9,
   "id": "252434ac",
   "metadata": {},
   "outputs": [],
   "source": [
    "# save the audio file\n",
    "tts.save(\"hello.mp3\")"
   ]
  },
  {
   "cell_type": "code",
   "execution_count": 11,
   "id": "b2527df7",
   "metadata": {},
   "outputs": [],
   "source": [
    "playsound(\"hello.mp3\")"
   ]
  },
  {
   "cell_type": "code",
   "execution_count": null,
   "id": "4761d597",
   "metadata": {},
   "outputs": [],
   "source": [
    "from gtts import gTTS\n",
    "import os\n",
    "import playsound\n",
    "\n",
    "def speak(text):\n",
    "    tts = gTTS(text=text, lang='en')\n",
    "\n",
    "    filename = \"abc.mp3\"\n",
    "    tts.save(filename)\n",
    "    playsound.playsound(filename)\n",
    "    os.remove(filename)"
   ]
  },
  {
   "cell_type": "code",
   "execution_count": 12,
   "id": "94dd185b",
   "metadata": {},
   "outputs": [
    {
     "name": "stdout",
     "output_type": "stream",
     "text": [
      "Collecting speechrecognition\n",
      "  Obtaining dependency information for speechrecognition from https://files.pythonhosted.org/packages/73/8c/74d3b2a7d71e3f18e1e50bf3f168cf3333846137f5723efac3d0dc5a8635/SpeechRecognition-3.10.1-py2.py3-none-any.whl.metadata\n",
      "  Downloading SpeechRecognition-3.10.1-py2.py3-none-any.whl.metadata (28 kB)\n",
      "Requirement already satisfied: requests>=2.26.0 in c:\\users\\admin\\anaconda3\\lib\\site-packages (from speechrecognition) (2.31.0)\n",
      "Requirement already satisfied: typing-extensions in c:\\users\\admin\\anaconda3\\lib\\site-packages (from speechrecognition) (4.7.1)\n",
      "Requirement already satisfied: charset-normalizer<4,>=2 in c:\\users\\admin\\anaconda3\\lib\\site-packages (from requests>=2.26.0->speechrecognition) (2.0.4)\n",
      "Requirement already satisfied: idna<4,>=2.5 in c:\\users\\admin\\anaconda3\\lib\\site-packages (from requests>=2.26.0->speechrecognition) (2.10)\n",
      "Requirement already satisfied: urllib3<3,>=1.21.1 in c:\\users\\admin\\anaconda3\\lib\\site-packages (from requests>=2.26.0->speechrecognition) (1.26.16)\n",
      "Requirement already satisfied: certifi>=2017.4.17 in c:\\users\\admin\\anaconda3\\lib\\site-packages (from requests>=2.26.0->speechrecognition) (2023.11.17)\n",
      "Downloading SpeechRecognition-3.10.1-py2.py3-none-any.whl (32.8 MB)\n",
      "   ---------------------------------------- 0.0/32.8 MB ? eta -:--:--\n",
      "   ---------------------------------------- 0.2/32.8 MB 3.1 MB/s eta 0:00:11\n",
      "    --------------------------------------- 0.7/32.8 MB 8.5 MB/s eta 0:00:04\n",
      "   - -------------------------------------- 1.1/32.8 MB 8.5 MB/s eta 0:00:04\n",
      "   - -------------------------------------- 1.5/32.8 MB 8.9 MB/s eta 0:00:04\n",
      "   -- ------------------------------------- 2.1/32.8 MB 9.5 MB/s eta 0:00:04\n",
      "   -- ------------------------------------- 2.5/32.8 MB 8.7 MB/s eta 0:00:04\n",
      "   --- ------------------------------------ 2.9/32.8 MB 8.9 MB/s eta 0:00:04\n",
      "   ---- ----------------------------------- 3.5/32.8 MB 9.6 MB/s eta 0:00:04\n",
      "   ---- ----------------------------------- 4.0/32.8 MB 9.8 MB/s eta 0:00:03\n",
      "   ----- ---------------------------------- 4.6/32.8 MB 10.0 MB/s eta 0:00:03\n",
      "   ------ --------------------------------- 5.1/32.8 MB 10.2 MB/s eta 0:00:03\n",
      "   ------ --------------------------------- 5.6/32.8 MB 10.3 MB/s eta 0:00:03\n",
      "   ------- -------------------------------- 6.2/32.8 MB 10.4 MB/s eta 0:00:03\n",
      "   -------- ------------------------------- 6.7/32.8 MB 10.5 MB/s eta 0:00:03\n",
      "   -------- ------------------------------- 7.3/32.8 MB 10.5 MB/s eta 0:00:03\n",
      "   --------- ------------------------------ 7.8/32.8 MB 10.6 MB/s eta 0:00:03\n",
      "   ---------- ----------------------------- 8.4/32.8 MB 10.7 MB/s eta 0:00:03\n",
      "   ---------- ----------------------------- 8.9/32.8 MB 10.7 MB/s eta 0:00:03\n",
      "   ----------- ---------------------------- 9.4/32.8 MB 10.8 MB/s eta 0:00:03\n",
      "   ------------ --------------------------- 10.0/32.8 MB 10.8 MB/s eta 0:00:03\n",
      "   ------------ --------------------------- 10.5/32.8 MB 11.1 MB/s eta 0:00:03\n",
      "   ------------- -------------------------- 11.0/32.8 MB 11.1 MB/s eta 0:00:02\n",
      "   -------------- ------------------------- 11.6/32.8 MB 11.3 MB/s eta 0:00:02\n",
      "   -------------- ------------------------- 12.1/32.8 MB 11.3 MB/s eta 0:00:02\n",
      "   -------------- ------------------------- 12.1/32.8 MB 11.3 MB/s eta 0:00:02\n",
      "   ---------------- ----------------------- 13.2/32.8 MB 11.7 MB/s eta 0:00:02\n",
      "   ---------------- ----------------------- 13.8/32.8 MB 11.7 MB/s eta 0:00:02\n",
      "   ----------------- ---------------------- 14.3/32.8 MB 11.7 MB/s eta 0:00:02\n",
      "   ------------------ --------------------- 14.8/32.8 MB 11.7 MB/s eta 0:00:02\n",
      "   ------------------ --------------------- 15.3/32.8 MB 11.9 MB/s eta 0:00:02\n",
      "   ------------------- -------------------- 15.9/32.8 MB 11.9 MB/s eta 0:00:02\n",
      "   ------------------- -------------------- 16.0/32.8 MB 11.3 MB/s eta 0:00:02\n",
      "   -------------------- ------------------- 17.0/32.8 MB 11.9 MB/s eta 0:00:02\n",
      "   --------------------- ------------------ 17.5/32.8 MB 11.7 MB/s eta 0:00:02\n",
      "   --------------------- ------------------ 18.1/32.8 MB 11.7 MB/s eta 0:00:02\n",
      "   ---------------------- ----------------- 18.6/32.8 MB 11.7 MB/s eta 0:00:02\n",
      "   ----------------------- ---------------- 19.2/32.8 MB 11.7 MB/s eta 0:00:02\n",
      "   ------------------------ --------------- 19.7/32.8 MB 11.7 MB/s eta 0:00:02\n",
      "   ------------------------ --------------- 20.3/32.8 MB 11.7 MB/s eta 0:00:02\n",
      "   ------------------------- -------------- 20.8/32.8 MB 11.9 MB/s eta 0:00:02\n",
      "   -------------------------- ------------- 21.4/32.8 MB 11.7 MB/s eta 0:00:01\n",
      "   -------------------------- ------------- 21.9/32.8 MB 11.7 MB/s eta 0:00:01\n",
      "   --------------------------- ------------ 22.5/32.8 MB 12.4 MB/s eta 0:00:01\n",
      "   ---------------------------- ----------- 23.0/32.8 MB 11.9 MB/s eta 0:00:01\n",
      "   ---------------------------- ----------- 23.6/32.8 MB 11.7 MB/s eta 0:00:01\n",
      "   ----------------------------- ---------- 24.1/32.8 MB 11.7 MB/s eta 0:00:01\n",
      "   ------------------------------ --------- 24.7/32.8 MB 11.7 MB/s eta 0:00:01\n",
      "   ------------------------------ --------- 25.2/32.8 MB 11.7 MB/s eta 0:00:01\n",
      "   ------------------------------ --------- 25.4/32.8 MB 11.9 MB/s eta 0:00:01\n",
      "   -------------------------------- ------- 26.3/32.8 MB 12.1 MB/s eta 0:00:01\n",
      "   -------------------------------- ------- 26.9/32.8 MB 11.9 MB/s eta 0:00:01\n",
      "   --------------------------------- ------ 27.4/32.8 MB 11.7 MB/s eta 0:00:01\n",
      "   ---------------------------------- ----- 28.0/32.8 MB 11.9 MB/s eta 0:00:01\n",
      "   ---------------------------------- ----- 28.5/32.8 MB 11.9 MB/s eta 0:00:01\n",
      "   ----------------------------------- ---- 29.1/32.8 MB 11.7 MB/s eta 0:00:01\n",
      "   ----------------------------------- ---- 29.4/32.8 MB 11.7 MB/s eta 0:00:01\n",
      "   ------------------------------------ --- 30.1/32.8 MB 11.7 MB/s eta 0:00:01\n",
      "   ------------------------------------- -- 30.7/32.8 MB 11.7 MB/s eta 0:00:01\n",
      "   -------------------------------------- - 31.2/32.8 MB 11.7 MB/s eta 0:00:01\n",
      "   -------------------------------------- - 31.8/32.8 MB 11.7 MB/s eta 0:00:01\n",
      "   ---------------------------------------  32.3/32.8 MB 11.7 MB/s eta 0:00:01\n",
      "   ---------------------------------------  32.8/32.8 MB 11.9 MB/s eta 0:00:01\n",
      "   ---------------------------------------  32.8/32.8 MB 11.9 MB/s eta 0:00:01\n",
      "   ---------------------------------------  32.8/32.8 MB 11.9 MB/s eta 0:00:01\n",
      "   ---------------------------------------  32.8/32.8 MB 11.9 MB/s eta 0:00:01\n",
      "   ---------------------------------------  32.8/32.8 MB 11.9 MB/s eta 0:00:01\n",
      "   ---------------------------------------  32.8/32.8 MB 11.9 MB/s eta 0:00:01\n",
      "   ---------------------------------------  32.8/32.8 MB 11.9 MB/s eta 0:00:01\n",
      "   ---------------------------------------  32.8/32.8 MB 11.9 MB/s eta 0:00:01\n",
      "   ---------------------------------------  32.8/32.8 MB 11.9 MB/s eta 0:00:01\n",
      "   ---------------------------------------  32.8/32.8 MB 11.9 MB/s eta 0:00:01\n",
      "   ---------------------------------------  32.8/32.8 MB 11.9 MB/s eta 0:00:01\n",
      "   ---------------------------------------  32.8/32.8 MB 11.9 MB/s eta 0:00:01\n",
      "   ---------------------------------------  32.8/32.8 MB 11.9 MB/s eta 0:00:01\n",
      "   ---------------------------------------  32.8/32.8 MB 11.9 MB/s eta 0:00:01\n",
      "   ---------------------------------------  32.8/32.8 MB 11.9 MB/s eta 0:00:01\n",
      "   ---------------------------------------  32.8/32.8 MB 11.9 MB/s eta 0:00:01\n",
      "   ---------------------------------------  32.8/32.8 MB 11.9 MB/s eta 0:00:01\n",
      "   ---------------------------------------  32.8/32.8 MB 11.9 MB/s eta 0:00:01\n",
      "   ---------------------------------------  32.8/32.8 MB 11.9 MB/s eta 0:00:01\n",
      "   ---------------------------------------  32.8/32.8 MB 11.9 MB/s eta 0:00:01\n",
      "   ---------------------------------------  32.8/32.8 MB 11.9 MB/s eta 0:00:01\n",
      "   ---------------------------------------  32.8/32.8 MB 11.9 MB/s eta 0:00:01\n",
      "   ---------------------------------------  32.8/32.8 MB 11.9 MB/s eta 0:00:01\n",
      "   ---------------------------------------  32.8/32.8 MB 11.9 MB/s eta 0:00:01\n",
      "   ---------------------------------------  32.8/32.8 MB 11.9 MB/s eta 0:00:01\n",
      "   ---------------------------------------  32.8/32.8 MB 11.9 MB/s eta 0:00:01\n",
      "   ---------------------------------------  32.8/32.8 MB 11.9 MB/s eta 0:00:01\n",
      "   ---------------------------------------  32.8/32.8 MB 11.9 MB/s eta 0:00:01\n",
      "   ---------------------------------------  32.8/32.8 MB 11.9 MB/s eta 0:00:01\n",
      "   ---------------------------------------  32.8/32.8 MB 11.9 MB/s eta 0:00:01\n",
      "   ---------------------------------------  32.8/32.8 MB 11.9 MB/s eta 0:00:01\n",
      "   ---------------------------------------  32.8/32.8 MB 11.9 MB/s eta 0:00:01\n",
      "   ---------------------------------------  32.8/32.8 MB 11.9 MB/s eta 0:00:01\n",
      "   ---------------------------------------  32.8/32.8 MB 11.9 MB/s eta 0:00:01\n",
      "   ---------------------------------------  32.8/32.8 MB 11.9 MB/s eta 0:00:01\n",
      "   ---------------------------------------  32.8/32.8 MB 11.9 MB/s eta 0:00:01\n",
      "   ---------------------------------------  32.8/32.8 MB 11.9 MB/s eta 0:00:01\n",
      "   ---------------------------------------  32.8/32.8 MB 11.9 MB/s eta 0:00:01\n",
      "   ---------------------------------------  32.8/32.8 MB 11.9 MB/s eta 0:00:01\n",
      "   ---------------------------------------  32.8/32.8 MB 11.9 MB/s eta 0:00:01\n",
      "   ---------------------------------------  32.8/32.8 MB 11.9 MB/s eta 0:00:01\n",
      "   ---------------------------------------- 32.8/32.8 MB 3.7 MB/s eta 0:00:00\n",
      "Installing collected packages: speechrecognition\n",
      "Successfully installed speechrecognition-3.10.1\n",
      "Note: you may need to restart the kernel to use updated packages.\n"
     ]
    }
   ],
   "source": [
    "pip install speechrecognition"
   ]
  },
  {
   "cell_type": "code",
   "execution_count": 13,
   "id": "98ba1ec5",
   "metadata": {},
   "outputs": [
    {
     "name": "stdout",
     "output_type": "stream",
     "text": [
      "Collecting pyaudioNote: you may need to restart the kernel to use updated packages.\n",
      "\n",
      "  Obtaining dependency information for pyaudio from https://files.pythonhosted.org/packages/82/d8/f043c854aad450a76e476b0cf9cda1956419e1dacf1062eb9df3c0055abe/PyAudio-0.2.14-cp311-cp311-win_amd64.whl.metadata\n",
      "  Downloading PyAudio-0.2.14-cp311-cp311-win_amd64.whl.metadata (2.7 kB)\n",
      "Downloading PyAudio-0.2.14-cp311-cp311-win_amd64.whl (164 kB)\n",
      "   ---------------------------------------- 0.0/164.1 kB ? eta -:--:--\n",
      "   -- ------------------------------------- 10.2/164.1 kB ? eta -:--:--\n",
      "   -- ------------------------------------- 10.2/164.1 kB ? eta -:--:--\n",
      "   -- ------------------------------------- 10.2/164.1 kB ? eta -:--:--\n",
      "   ------- ------------------------------- 30.7/164.1 kB 163.8 kB/s eta 0:00:01\n",
      "   --------- ----------------------------- 41.0/164.1 kB 151.3 kB/s eta 0:00:01\n",
      "   --------- ----------------------------- 41.0/164.1 kB 151.3 kB/s eta 0:00:01\n",
      "   --------- ----------------------------- 41.0/164.1 kB 151.3 kB/s eta 0:00:01\n",
      "   -------------- ------------------------ 61.4/164.1 kB 163.6 kB/s eta 0:00:01\n",
      "   -------------- ------------------------ 61.4/164.1 kB 163.6 kB/s eta 0:00:01\n",
      "   -------------- ------------------------ 61.4/164.1 kB 163.6 kB/s eta 0:00:01\n",
      "   -------------- ------------------------ 61.4/164.1 kB 163.6 kB/s eta 0:00:01\n",
      "   -------------- ------------------------ 61.4/164.1 kB 163.6 kB/s eta 0:00:01\n",
      "   -------------- ------------------------ 61.4/164.1 kB 163.6 kB/s eta 0:00:01\n",
      "   -------------- ------------------------ 61.4/164.1 kB 163.6 kB/s eta 0:00:01\n",
      "   -------------- ------------------------ 61.4/164.1 kB 163.6 kB/s eta 0:00:01\n",
      "   -------------- ------------------------ 61.4/164.1 kB 163.6 kB/s eta 0:00:01\n",
      "   -------------- ------------------------ 61.4/164.1 kB 163.6 kB/s eta 0:00:01\n",
      "   -------------- ------------------------ 61.4/164.1 kB 163.6 kB/s eta 0:00:01\n",
      "   -------------- ------------------------ 61.4/164.1 kB 163.6 kB/s eta 0:00:01\n",
      "   -------------- ------------------------ 61.4/164.1 kB 163.6 kB/s eta 0:00:01\n",
      "   -------------- ------------------------ 61.4/164.1 kB 163.6 kB/s eta 0:00:01\n",
      "   -------------- ------------------------ 61.4/164.1 kB 163.6 kB/s eta 0:00:01\n",
      "   -------------- ------------------------ 61.4/164.1 kB 163.6 kB/s eta 0:00:01\n",
      "   -------------- ------------------------ 61.4/164.1 kB 163.6 kB/s eta 0:00:01\n",
      "   -------------- ------------------------ 61.4/164.1 kB 163.6 kB/s eta 0:00:01\n",
      "   -------------- ------------------------ 61.4/164.1 kB 163.6 kB/s eta 0:00:01\n",
      "   -------------- ------------------------ 61.4/164.1 kB 163.6 kB/s eta 0:00:01\n",
      "   -------------- ------------------------ 61.4/164.1 kB 163.6 kB/s eta 0:00:01\n",
      "   -------------- ------------------------ 61.4/164.1 kB 163.6 kB/s eta 0:00:01\n",
      "   -------------- ------------------------ 61.4/164.1 kB 163.6 kB/s eta 0:00:01\n",
      "   -------------- ------------------------ 61.4/164.1 kB 163.6 kB/s eta 0:00:01\n",
      "   -------------- ------------------------ 61.4/164.1 kB 163.6 kB/s eta 0:00:01\n",
      "   -------------- ------------------------ 61.4/164.1 kB 163.6 kB/s eta 0:00:01\n",
      "   -------------- ------------------------ 61.4/164.1 kB 163.6 kB/s eta 0:00:01\n",
      "   -------------- ------------------------ 61.4/164.1 kB 163.6 kB/s eta 0:00:01\n",
      "   -------------- ------------------------ 61.4/164.1 kB 163.6 kB/s eta 0:00:01\n",
      "   -------------- ------------------------ 61.4/164.1 kB 163.6 kB/s eta 0:00:01\n",
      "   -------------- ------------------------ 61.4/164.1 kB 163.6 kB/s eta 0:00:01\n",
      "   -------------- ------------------------ 61.4/164.1 kB 163.6 kB/s eta 0:00:01\n",
      "   -------------- ------------------------ 61.4/164.1 kB 163.6 kB/s eta 0:00:01\n",
      "   -------------- ------------------------ 61.4/164.1 kB 163.6 kB/s eta 0:00:01\n",
      "   -------------- ------------------------ 61.4/164.1 kB 163.6 kB/s eta 0:00:01\n",
      "   -------------- ------------------------ 61.4/164.1 kB 163.6 kB/s eta 0:00:01\n",
      "   -------------- ------------------------ 61.4/164.1 kB 163.6 kB/s eta 0:00:01\n",
      "   -------------- ------------------------ 61.4/164.1 kB 163.6 kB/s eta 0:00:01\n",
      "   -------------- ------------------------ 61.4/164.1 kB 163.6 kB/s eta 0:00:01\n",
      "   -------------- ------------------------ 61.4/164.1 kB 163.6 kB/s eta 0:00:01\n",
      "   -------------- ------------------------ 61.4/164.1 kB 163.6 kB/s eta 0:00:01\n",
      "   -------------- ------------------------ 61.4/164.1 kB 163.6 kB/s eta 0:00:01\n",
      "   -------------- ------------------------ 61.4/164.1 kB 163.6 kB/s eta 0:00:01\n",
      "   -------------- ------------------------ 61.4/164.1 kB 163.6 kB/s eta 0:00:01\n",
      "   -------------- ------------------------ 61.4/164.1 kB 163.6 kB/s eta 0:00:01\n",
      "   -------------- ------------------------ 61.4/164.1 kB 163.6 kB/s eta 0:00:01\n",
      "   -------------- ------------------------ 61.4/164.1 kB 163.6 kB/s eta 0:00:01\n",
      "   -------------- ------------------------ 61.4/164.1 kB 163.6 kB/s eta 0:00:01\n",
      "   -------------- ------------------------ 61.4/164.1 kB 163.6 kB/s eta 0:00:01\n",
      "   -------------- ------------------------ 61.4/164.1 kB 163.6 kB/s eta 0:00:01\n",
      "   -------------- ------------------------ 61.4/164.1 kB 163.6 kB/s eta 0:00:01\n",
      "   -------------- ------------------------ 61.4/164.1 kB 163.6 kB/s eta 0:00:01\n",
      "   -------------- ------------------------ 61.4/164.1 kB 163.6 kB/s eta 0:00:01\n",
      "   -------------- ------------------------ 61.4/164.1 kB 163.6 kB/s eta 0:00:01\n",
      "   -------------- ------------------------ 61.4/164.1 kB 163.6 kB/s eta 0:00:01\n",
      "   -------------- ------------------------ 61.4/164.1 kB 163.6 kB/s eta 0:00:01\n",
      "   -------------- ------------------------ 61.4/164.1 kB 163.6 kB/s eta 0:00:01\n",
      "   -------------- ------------------------ 61.4/164.1 kB 163.6 kB/s eta 0:00:01\n",
      "   -------------- ------------------------ 61.4/164.1 kB 163.6 kB/s eta 0:00:01\n",
      "   -------------- ------------------------ 61.4/164.1 kB 163.6 kB/s eta 0:00:01\n",
      "   -------------- ------------------------ 61.4/164.1 kB 163.6 kB/s eta 0:00:01\n",
      "   -------------- ------------------------ 61.4/164.1 kB 163.6 kB/s eta 0:00:01\n",
      "   -------------- ------------------------ 61.4/164.1 kB 163.6 kB/s eta 0:00:01\n",
      "   -------------- ------------------------ 61.4/164.1 kB 163.6 kB/s eta 0:00:01\n",
      "   ----------------- ---------------------- 71.7/164.1 kB 18.5 kB/s eta 0:00:05\n",
      "   ----------------- ---------------------- 71.7/164.1 kB 18.5 kB/s eta 0:00:05\n",
      "   ---------------------- ----------------- 92.2/164.1 kB 24.2 kB/s eta 0:00:03\n",
      "   -------------------------- ------------ 112.6/164.1 kB 29.5 kB/s eta 0:00:02\n",
      "   ----------------------------- --------- 122.9/164.1 kB 32.0 kB/s eta 0:00:02\n",
      "   ---------------------------------- ---- 143.4/164.1 kB 37.4 kB/s eta 0:00:01\n",
      "   --------------------------------------  163.8/164.1 kB 42.9 kB/s eta 0:00:01\n",
      "   --------------------------------------  163.8/164.1 kB 42.9 kB/s eta 0:00:01\n",
      "   --------------------------------------  163.8/164.1 kB 42.9 kB/s eta 0:00:01\n",
      "   --------------------------------------  163.8/164.1 kB 42.9 kB/s eta 0:00:01\n",
      "   --------------------------------------- 164.1/164.1 kB 40.5 kB/s eta 0:00:00\n",
      "Installing collected packages: pyaudio\n",
      "Successfully installed pyaudio-0.2.14\n"
     ]
    }
   ],
   "source": [
    "pip install pyaudio"
   ]
  },
  {
   "cell_type": "code",
   "execution_count": 14,
   "id": "05a67204",
   "metadata": {},
   "outputs": [
    {
     "name": "stdout",
     "output_type": "stream",
     "text": [
      "Requirement already satisfied: pyttsx3 in c:\\users\\admin\\anaconda3\\lib\\site-packages (2.90)Note: you may need to restart the kernel to use updated packages.\n",
      "\n",
      "Requirement already satisfied: comtypes in c:\\users\\admin\\anaconda3\\lib\\site-packages (from pyttsx3) (1.2.1)\n",
      "Requirement already satisfied: pypiwin32 in c:\\users\\admin\\anaconda3\\lib\\site-packages (from pyttsx3) (223)\n",
      "Requirement already satisfied: pywin32 in c:\\users\\admin\\anaconda3\\lib\\site-packages (from pyttsx3) (305.1)\n"
     ]
    }
   ],
   "source": [
    "pip install pyttsx3"
   ]
  },
  {
   "cell_type": "code",
   "execution_count": 15,
   "id": "c7e2feef",
   "metadata": {},
   "outputs": [
    {
     "ename": "SyntaxError",
     "evalue": "invalid syntax. Perhaps you forgot a comma? (3366005983.py, line 1)",
     "output_type": "error",
     "traceback": [
      "\u001b[1;36m  Cell \u001b[1;32mIn[15], line 1\u001b[1;36m\u001b[0m\n\u001b[1;33m    init(driverName string, debug bool)\u001b[0m\n\u001b[1;37m         ^\u001b[0m\n\u001b[1;31mSyntaxError\u001b[0m\u001b[1;31m:\u001b[0m invalid syntax. Perhaps you forgot a comma?\n"
     ]
    }
   ],
   "source": [
    "init(driverName string, debug bool)"
   ]
  },
  {
   "cell_type": "code",
   "execution_count": 17,
   "id": "793dbab5",
   "metadata": {},
   "outputs": [
    {
     "ename": "SyntaxError",
     "evalue": "invalid syntax. Perhaps you forgot a comma? (2432856090.py, line 1)",
     "output_type": "error",
     "traceback": [
      "\u001b[1;36m  Cell \u001b[1;32mIn[17], line 1\u001b[1;36m\u001b[0m\n\u001b[1;33m    say(text unicode,name string)\u001b[0m\n\u001b[1;37m        ^\u001b[0m\n\u001b[1;31mSyntaxError\u001b[0m\u001b[1;31m:\u001b[0m invalid syntax. Perhaps you forgot a comma?\n"
     ]
    }
   ],
   "source": [
    "say(text unicode, name string)"
   ]
  },
  {
   "cell_type": "code",
   "execution_count": 18,
   "id": "75a6a839",
   "metadata": {},
   "outputs": [
    {
     "ename": "OSError",
     "evalue": "No Default Input Device Available",
     "output_type": "error",
     "traceback": [
      "\u001b[1;31m---------------------------------------------------------------------------\u001b[0m",
      "\u001b[1;31mOSError\u001b[0m                                   Traceback (most recent call last)",
      "Cell \u001b[1;32mIn[18], line 31\u001b[0m\n\u001b[0;32m     24\u001b[0m \u001b[38;5;28;01mwhile\u001b[39;00m(\u001b[38;5;241m1\u001b[39m): \n\u001b[0;32m     25\u001b[0m \t\n\u001b[0;32m     26\u001b[0m \t\u001b[38;5;66;03m# Exception handling to handle\u001b[39;00m\n\u001b[0;32m     27\u001b[0m \t\u001b[38;5;66;03m# exceptions at the runtime\u001b[39;00m\n\u001b[0;32m     28\u001b[0m \t\u001b[38;5;28;01mtry\u001b[39;00m:\n\u001b[0;32m     29\u001b[0m \t\t\n\u001b[0;32m     30\u001b[0m \t\t\u001b[38;5;66;03m# use the microphone as source for input.\u001b[39;00m\n\u001b[1;32m---> 31\u001b[0m \t\t\u001b[38;5;28;01mwith\u001b[39;00m sr\u001b[38;5;241m.\u001b[39mMicrophone() \u001b[38;5;28;01mas\u001b[39;00m source2:\n\u001b[0;32m     32\u001b[0m \t\t\t\n\u001b[0;32m     33\u001b[0m \t\t\t\u001b[38;5;66;03m# wait for a second to let the recognizer\u001b[39;00m\n\u001b[0;32m     34\u001b[0m \t\t\t\u001b[38;5;66;03m# adjust the energy threshold based on\u001b[39;00m\n\u001b[0;32m     35\u001b[0m \t\t\t\u001b[38;5;66;03m# the surrounding noise level \u001b[39;00m\n\u001b[0;32m     36\u001b[0m \t\t\tr\u001b[38;5;241m.\u001b[39madjust_for_ambient_noise(source2, duration\u001b[38;5;241m=\u001b[39m\u001b[38;5;241m0.2\u001b[39m)\n\u001b[0;32m     38\u001b[0m \t\t\t\u001b[38;5;66;03m#listens for the user's input \u001b[39;00m\n",
      "File \u001b[1;32m~\\anaconda3\\Lib\\site-packages\\speech_recognition\\__init__.py:87\u001b[0m, in \u001b[0;36mMicrophone.__init__\u001b[1;34m(self, device_index, sample_rate, chunk_size)\u001b[0m\n\u001b[0;32m     85\u001b[0m     \u001b[38;5;28;01massert\u001b[39;00m \u001b[38;5;241m0\u001b[39m \u001b[38;5;241m<\u001b[39m\u001b[38;5;241m=\u001b[39m device_index \u001b[38;5;241m<\u001b[39m count, \u001b[38;5;124m\"\u001b[39m\u001b[38;5;124mDevice index out of range (\u001b[39m\u001b[38;5;132;01m{}\u001b[39;00m\u001b[38;5;124m devices available; device index should be between 0 and \u001b[39m\u001b[38;5;132;01m{}\u001b[39;00m\u001b[38;5;124m inclusive)\u001b[39m\u001b[38;5;124m\"\u001b[39m\u001b[38;5;241m.\u001b[39mformat(count, count \u001b[38;5;241m-\u001b[39m \u001b[38;5;241m1\u001b[39m)\n\u001b[0;32m     86\u001b[0m \u001b[38;5;28;01mif\u001b[39;00m sample_rate \u001b[38;5;129;01mis\u001b[39;00m \u001b[38;5;28;01mNone\u001b[39;00m:  \u001b[38;5;66;03m# automatically set the sample rate to the hardware's default sample rate if not specified\u001b[39;00m\n\u001b[1;32m---> 87\u001b[0m     device_info \u001b[38;5;241m=\u001b[39m audio\u001b[38;5;241m.\u001b[39mget_device_info_by_index(device_index) \u001b[38;5;28;01mif\u001b[39;00m device_index \u001b[38;5;129;01mis\u001b[39;00m \u001b[38;5;129;01mnot\u001b[39;00m \u001b[38;5;28;01mNone\u001b[39;00m \u001b[38;5;28;01melse\u001b[39;00m audio\u001b[38;5;241m.\u001b[39mget_default_input_device_info()\n\u001b[0;32m     88\u001b[0m     \u001b[38;5;28;01massert\u001b[39;00m \u001b[38;5;28misinstance\u001b[39m(device_info\u001b[38;5;241m.\u001b[39mget(\u001b[38;5;124m\"\u001b[39m\u001b[38;5;124mdefaultSampleRate\u001b[39m\u001b[38;5;124m\"\u001b[39m), (\u001b[38;5;28mfloat\u001b[39m, \u001b[38;5;28mint\u001b[39m)) \u001b[38;5;129;01mand\u001b[39;00m device_info[\u001b[38;5;124m\"\u001b[39m\u001b[38;5;124mdefaultSampleRate\u001b[39m\u001b[38;5;124m\"\u001b[39m] \u001b[38;5;241m>\u001b[39m \u001b[38;5;241m0\u001b[39m, \u001b[38;5;124m\"\u001b[39m\u001b[38;5;124mInvalid device info returned from PyAudio: \u001b[39m\u001b[38;5;132;01m{}\u001b[39;00m\u001b[38;5;124m\"\u001b[39m\u001b[38;5;241m.\u001b[39mformat(device_info)\n\u001b[0;32m     89\u001b[0m     sample_rate \u001b[38;5;241m=\u001b[39m \u001b[38;5;28mint\u001b[39m(device_info[\u001b[38;5;124m\"\u001b[39m\u001b[38;5;124mdefaultSampleRate\u001b[39m\u001b[38;5;124m\"\u001b[39m])\n",
      "File \u001b[1;32m~\\anaconda3\\Lib\\site-packages\\pyaudio\\__init__.py:812\u001b[0m, in \u001b[0;36mPyAudio.get_default_input_device_info\u001b[1;34m(self)\u001b[0m\n\u001b[0;32m    803\u001b[0m \u001b[38;5;28;01mdef\u001b[39;00m \u001b[38;5;21mget_default_input_device_info\u001b[39m(\u001b[38;5;28mself\u001b[39m):\n\u001b[0;32m    804\u001b[0m \u001b[38;5;250m    \u001b[39m\u001b[38;5;124;03m\"\"\"Returns the default input device parameters as a dictionary.\u001b[39;00m\n\u001b[0;32m    805\u001b[0m \n\u001b[0;32m    806\u001b[0m \u001b[38;5;124;03m    The keys of the dictionary mirror the data fields of PortAudio's\u001b[39;00m\n\u001b[1;32m   (...)\u001b[0m\n\u001b[0;32m    810\u001b[0m \u001b[38;5;124;03m    :rtype: dict\u001b[39;00m\n\u001b[0;32m    811\u001b[0m \u001b[38;5;124;03m    \"\"\"\u001b[39;00m\n\u001b[1;32m--> 812\u001b[0m     device_index \u001b[38;5;241m=\u001b[39m pa\u001b[38;5;241m.\u001b[39mget_default_input_device()\n\u001b[0;32m    813\u001b[0m     \u001b[38;5;28;01mreturn\u001b[39;00m \u001b[38;5;28mself\u001b[39m\u001b[38;5;241m.\u001b[39mget_device_info_by_index(device_index)\n",
      "\u001b[1;31mOSError\u001b[0m: No Default Input Device Available"
     ]
    }
   ],
   "source": [
    "# Python program to translate\n",
    "# speech to text and text to speech\n",
    "\n",
    "\n",
    "import speech_recognition as sr\n",
    "import pyttsx3 \n",
    "\n",
    "# Initialize the recognizer \n",
    "r = sr.Recognizer() \n",
    "\n",
    "# Function to convert text to\n",
    "# speech\n",
    "def SpeakText(command):\n",
    "\t\n",
    "\t# Initialize the engine\n",
    "\tengine = pyttsx3.init()\n",
    "\tengine.say(command) \n",
    "\tengine.runAndWait()\n",
    "\t\n",
    "\t\n",
    "# Loop infinitely for user to\n",
    "# speak\n",
    "\n",
    "while(1): \n",
    "\t\n",
    "\t# Exception handling to handle\n",
    "\t# exceptions at the runtime\n",
    "\ttry:\n",
    "\t\t\n",
    "\t\t# use the microphone as source for input.\n",
    "\t\twith sr.Microphone() as source2:\n",
    "\t\t\t\n",
    "\t\t\t# wait for a second to let the recognizer\n",
    "\t\t\t# adjust the energy threshold based on\n",
    "\t\t\t# the surrounding noise level \n",
    "\t\t\tr.adjust_for_ambient_noise(source2, duration=0.2)\n",
    "\t\t\t\n",
    "\t\t\t#listens for the user's input \n",
    "\t\t\taudio2 = r.listen(source2)\n",
    "\t\t\t\n",
    "\t\t\t# Using google to recognize audio\n",
    "\t\t\tMyText = r.recognize_google(audio2)\n",
    "\t\t\tMyText = MyText.lower()\n",
    "\n",
    "\t\t\tprint(\"Did you say \",MyText)\n",
    "\t\t\tSpeakText(MyText)\n",
    "\t\t\t\n",
    "\texcept sr.RequestError as e:\n",
    "\t\tprint(\"Could not request results; {0}\".format(e))\n",
    "\t\t\n",
    "\texcept sr.UnknownValueError:\n",
    "\t\tprint(\"unknown error occurred\")\n"
   ]
  },
  {
   "cell_type": "code",
   "execution_count": 19,
   "id": "c64ccc05",
   "metadata": {},
   "outputs": [],
   "source": [
    "import speech_recognition as sr\n",
    "import pyttsx3 \n"
   ]
  },
  {
   "cell_type": "code",
   "execution_count": 20,
   "id": "16bc1c6b",
   "metadata": {},
   "outputs": [],
   "source": [
    "r = sr.Recognizer() "
   ]
  },
  {
   "cell_type": "code",
   "execution_count": 21,
   "id": "e811252a",
   "metadata": {},
   "outputs": [],
   "source": [
    "def SpeakText(command):\n",
    "\t\n",
    "\t# Initialize the engine\n",
    "\tengine = pyttsx3.init()\n",
    "\tengine.say(command) \n",
    "\tengine.runAndWait()\n",
    "\t"
   ]
  },
  {
   "cell_type": "code",
   "execution_count": 22,
   "id": "9d776673",
   "metadata": {},
   "outputs": [
    {
     "ename": "OSError",
     "evalue": "No Default Input Device Available",
     "output_type": "error",
     "traceback": [
      "\u001b[1;31m---------------------------------------------------------------------------\u001b[0m",
      "\u001b[1;31mOSError\u001b[0m                                   Traceback (most recent call last)",
      "Cell \u001b[1;32mIn[22], line 8\u001b[0m\n\u001b[0;32m      1\u001b[0m \u001b[38;5;28;01mwhile\u001b[39;00m(\u001b[38;5;241m1\u001b[39m): \n\u001b[0;32m      2\u001b[0m \t\n\u001b[0;32m      3\u001b[0m \t\u001b[38;5;66;03m# Exception handling to handle\u001b[39;00m\n\u001b[0;32m      4\u001b[0m \t\u001b[38;5;66;03m# exceptions at the runtime\u001b[39;00m\n\u001b[0;32m      5\u001b[0m \t\u001b[38;5;28;01mtry\u001b[39;00m:\n\u001b[0;32m      6\u001b[0m \t\t\n\u001b[0;32m      7\u001b[0m \t\t\u001b[38;5;66;03m# use the microphone as source for input.\u001b[39;00m\n\u001b[1;32m----> 8\u001b[0m \t\t\u001b[38;5;28;01mwith\u001b[39;00m sr\u001b[38;5;241m.\u001b[39mMicrophone() \u001b[38;5;28;01mas\u001b[39;00m source2:\n\u001b[0;32m      9\u001b[0m \t\t\t\n\u001b[0;32m     10\u001b[0m \t\t\t\u001b[38;5;66;03m# wait for a second to let the recognizer\u001b[39;00m\n\u001b[0;32m     11\u001b[0m \t\t\t\u001b[38;5;66;03m# adjust the energy threshold based on\u001b[39;00m\n\u001b[0;32m     12\u001b[0m \t\t\t\u001b[38;5;66;03m# the surrounding noise level \u001b[39;00m\n\u001b[0;32m     13\u001b[0m \t\t\tr\u001b[38;5;241m.\u001b[39madjust_for_ambient_noise(source2, duration\u001b[38;5;241m=\u001b[39m\u001b[38;5;241m0.2\u001b[39m)\n\u001b[0;32m     15\u001b[0m \t\t\t\u001b[38;5;66;03m#listens for the user's input \u001b[39;00m\n",
      "File \u001b[1;32m~\\anaconda3\\Lib\\site-packages\\speech_recognition\\__init__.py:87\u001b[0m, in \u001b[0;36mMicrophone.__init__\u001b[1;34m(self, device_index, sample_rate, chunk_size)\u001b[0m\n\u001b[0;32m     85\u001b[0m     \u001b[38;5;28;01massert\u001b[39;00m \u001b[38;5;241m0\u001b[39m \u001b[38;5;241m<\u001b[39m\u001b[38;5;241m=\u001b[39m device_index \u001b[38;5;241m<\u001b[39m count, \u001b[38;5;124m\"\u001b[39m\u001b[38;5;124mDevice index out of range (\u001b[39m\u001b[38;5;132;01m{}\u001b[39;00m\u001b[38;5;124m devices available; device index should be between 0 and \u001b[39m\u001b[38;5;132;01m{}\u001b[39;00m\u001b[38;5;124m inclusive)\u001b[39m\u001b[38;5;124m\"\u001b[39m\u001b[38;5;241m.\u001b[39mformat(count, count \u001b[38;5;241m-\u001b[39m \u001b[38;5;241m1\u001b[39m)\n\u001b[0;32m     86\u001b[0m \u001b[38;5;28;01mif\u001b[39;00m sample_rate \u001b[38;5;129;01mis\u001b[39;00m \u001b[38;5;28;01mNone\u001b[39;00m:  \u001b[38;5;66;03m# automatically set the sample rate to the hardware's default sample rate if not specified\u001b[39;00m\n\u001b[1;32m---> 87\u001b[0m     device_info \u001b[38;5;241m=\u001b[39m audio\u001b[38;5;241m.\u001b[39mget_device_info_by_index(device_index) \u001b[38;5;28;01mif\u001b[39;00m device_index \u001b[38;5;129;01mis\u001b[39;00m \u001b[38;5;129;01mnot\u001b[39;00m \u001b[38;5;28;01mNone\u001b[39;00m \u001b[38;5;28;01melse\u001b[39;00m audio\u001b[38;5;241m.\u001b[39mget_default_input_device_info()\n\u001b[0;32m     88\u001b[0m     \u001b[38;5;28;01massert\u001b[39;00m \u001b[38;5;28misinstance\u001b[39m(device_info\u001b[38;5;241m.\u001b[39mget(\u001b[38;5;124m\"\u001b[39m\u001b[38;5;124mdefaultSampleRate\u001b[39m\u001b[38;5;124m\"\u001b[39m), (\u001b[38;5;28mfloat\u001b[39m, \u001b[38;5;28mint\u001b[39m)) \u001b[38;5;129;01mand\u001b[39;00m device_info[\u001b[38;5;124m\"\u001b[39m\u001b[38;5;124mdefaultSampleRate\u001b[39m\u001b[38;5;124m\"\u001b[39m] \u001b[38;5;241m>\u001b[39m \u001b[38;5;241m0\u001b[39m, \u001b[38;5;124m\"\u001b[39m\u001b[38;5;124mInvalid device info returned from PyAudio: \u001b[39m\u001b[38;5;132;01m{}\u001b[39;00m\u001b[38;5;124m\"\u001b[39m\u001b[38;5;241m.\u001b[39mformat(device_info)\n\u001b[0;32m     89\u001b[0m     sample_rate \u001b[38;5;241m=\u001b[39m \u001b[38;5;28mint\u001b[39m(device_info[\u001b[38;5;124m\"\u001b[39m\u001b[38;5;124mdefaultSampleRate\u001b[39m\u001b[38;5;124m\"\u001b[39m])\n",
      "File \u001b[1;32m~\\anaconda3\\Lib\\site-packages\\pyaudio\\__init__.py:812\u001b[0m, in \u001b[0;36mPyAudio.get_default_input_device_info\u001b[1;34m(self)\u001b[0m\n\u001b[0;32m    803\u001b[0m \u001b[38;5;28;01mdef\u001b[39;00m \u001b[38;5;21mget_default_input_device_info\u001b[39m(\u001b[38;5;28mself\u001b[39m):\n\u001b[0;32m    804\u001b[0m \u001b[38;5;250m    \u001b[39m\u001b[38;5;124;03m\"\"\"Returns the default input device parameters as a dictionary.\u001b[39;00m\n\u001b[0;32m    805\u001b[0m \n\u001b[0;32m    806\u001b[0m \u001b[38;5;124;03m    The keys of the dictionary mirror the data fields of PortAudio's\u001b[39;00m\n\u001b[1;32m   (...)\u001b[0m\n\u001b[0;32m    810\u001b[0m \u001b[38;5;124;03m    :rtype: dict\u001b[39;00m\n\u001b[0;32m    811\u001b[0m \u001b[38;5;124;03m    \"\"\"\u001b[39;00m\n\u001b[1;32m--> 812\u001b[0m     device_index \u001b[38;5;241m=\u001b[39m pa\u001b[38;5;241m.\u001b[39mget_default_input_device()\n\u001b[0;32m    813\u001b[0m     \u001b[38;5;28;01mreturn\u001b[39;00m \u001b[38;5;28mself\u001b[39m\u001b[38;5;241m.\u001b[39mget_device_info_by_index(device_index)\n",
      "\u001b[1;31mOSError\u001b[0m: No Default Input Device Available"
     ]
    }
   ],
   "source": [
    "while(1): \n",
    "\t\n",
    "\t# Exception handling to handle\n",
    "\t# exceptions at the runtime\n",
    "\ttry:\n",
    "\t\t\n",
    "\t\t# use the microphone as source for input.\n",
    "\t\twith sr.Microphone() as source2:\n",
    "\t\t\t\n",
    "\t\t\t# wait for a second to let the recognizer\n",
    "\t\t\t# adjust the energy threshold based on\n",
    "\t\t\t# the surrounding noise level \n",
    "\t\t\tr.adjust_for_ambient_noise(source2, duration=0.2)\n",
    "\t\t\t\n",
    "\t\t\t#listens for the user's input \n",
    "\t\t\taudio2 = r.listen(source2)\n",
    "\t\t\t\n",
    "\t\t\t# Using google to recognize audio\n",
    "\t\t\tMyText = r.recognize_google(audio2)\n",
    "\t\t\tMyText = MyText.lower()\n",
    "\n",
    "\t\t\tprint(\"Did you say \",MyText)\n",
    "\t\t\tSpeakText(MyText)\n",
    "\t\t\t\n",
    "\texcept sr.RequestError as e:\n",
    "\t\tprint(\"Could not request results; {0}\".format(e))\n",
    "\t\t\n",
    "\texcept sr.UnknownValueError:\n",
    "\t\tprint(\"unknown error occurred\")\n"
   ]
  },
  {
   "cell_type": "code",
   "execution_count": null,
   "id": "3108bf64",
   "metadata": {},
   "outputs": [],
   "source": []
  }
 ],
 "metadata": {
  "kernelspec": {
   "display_name": "Python 3 (ipykernel)",
   "language": "python",
   "name": "python3"
  },
  "language_info": {
   "codemirror_mode": {
    "name": "ipython",
    "version": 3
   },
   "file_extension": ".py",
   "mimetype": "text/x-python",
   "name": "python",
   "nbconvert_exporter": "python",
   "pygments_lexer": "ipython3",
   "version": "3.11.5"
  }
 },
 "nbformat": 4,
 "nbformat_minor": 5
}
